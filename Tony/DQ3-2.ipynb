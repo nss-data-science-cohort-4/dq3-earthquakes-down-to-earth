{
 "cells": [
  {
   "cell_type": "code",
   "execution_count": 1,
   "metadata": {},
   "outputs": [],
   "source": [
    "import pandas as pd\n",
    "import numpy as np\n",
    "import matplotlib.pyplot as plt\n",
    "import seaborn as sns"
   ]
  },
  {
   "cell_type": "code",
   "execution_count": 2,
   "metadata": {},
   "outputs": [
    {
     "name": "stdout",
     "output_type": "stream",
     "text": [
      "       FID  Index                 TZID\n",
      "0        0   12.0         Asia/Kashgar\n",
      "1        1  348.0         Asia/Kashgar\n",
      "2        2  477.0         Asia/Kashgar\n",
      "3        3  514.0         Asia/Kashgar\n",
      "4        4  548.0         Asia/Kashgar\n",
      "...    ...    ...                  ...\n",
      "1222  1222  977.0        Asia/Jayapura\n",
      "1223  1223  959.0        Asia/Jayapura\n",
      "1224  1224  976.0        Asia/Ust-Nera\n",
      "1225  1225   95.0        Asia/Ust-Nera\n",
      "1226  1226  701.0  America/Tegucigalpa\n",
      "\n",
      "[1227 rows x 3 columns]\n"
     ]
    }
   ],
   "source": [
    "dftz = pd.read_csv('..\\Data\\dftz.csv')\n",
    "df = pd.read_csv('..\\Data\\df.csv')\n",
    "print(dftz)"
   ]
  },
  {
   "cell_type": "code",
   "execution_count": 3,
   "metadata": {},
   "outputs": [],
   "source": [
    "dftz['Index'] = dftz['Index'].astype('int')\n",
    "dftz['Index'] = dftz['Index'].astype('str')\n",
    "df['Index'] = df['Index'].astype('str')\n",
    "df['Origin (UTC)'] = pd.to_datetime(df['Origin (UTC)'])"
   ]
  },
  {
   "cell_type": "code",
   "execution_count": 4,
   "metadata": {},
   "outputs": [],
   "source": [
    "dftz = dftz.merge(df, on = 'Index', suffixes = ('', '_DEL'))\n",
    "dftz.drop(columns = ['FID'], inplace = True)"
   ]
  },
  {
   "cell_type": "code",
   "execution_count": 5,
   "metadata": {},
   "outputs": [
    {
     "name": "stdout",
     "output_type": "stream",
     "text": [
      "     Index                 TZID        Origin (UTC)     Lat     Long  \\\n",
      "0       12         Asia/Kashgar 1902-08-22 03:00:00  40.000   77.000   \n",
      "1      348         Asia/Kashgar 1955-04-15 03:40:00  39.816   74.640   \n",
      "2      477         Asia/Kashgar 1969-02-11 22:08:00  41.426   79.239   \n",
      "3      514         Asia/Kashgar 1971-07-26 01:48:00  39.848   77.246   \n",
      "4      548         Asia/Kashgar 1975-01-19 08:02:00  32.373   78.474   \n",
      "...    ...                  ...                 ...     ...      ...   \n",
      "1222   977        Asia/Jayapura 1994-10-08 21:44:00  -1.206  127.980   \n",
      "1223   959        Asia/Jayapura 1994-01-21 02:24:00   1.043  127.773   \n",
      "1224   976        Asia/Ust-Nera 1994-10-04 13:22:00  43.863  147.353   \n",
      "1225    95        Asia/Ust-Nera 1918-09-07 17:15:00  46.812  150.253   \n",
      "1226   701  America/Tegucigalpa 1982-09-29 05:50:00  14.494  -89.102   \n",
      "\n",
      "      Depth (km)  Magnitude Secondary Effects  PDE Shaking Deaths  \\\n",
      "0            0.0        7.7               NaN                 NaN   \n",
      "1           35.0        7.1               NaN                 NaN   \n",
      "2           13.1        7.1               NaN                 NaN   \n",
      "3           41.1        5.8               NaN                 NaN   \n",
      "4            5.0        6.8               NaN                47.0   \n",
      "...          ...        ...               ...                 ...   \n",
      "1222        17.0        6.8                 T                 1.0   \n",
      "1223        20.0        6.9               NaN                 7.0   \n",
      "1224        14.0        8.3               T,L                 NaN   \n",
      "1225       242.4        7.6                 T                 NaN   \n",
      "1226        13.9        5.6               NaN                 3.0   \n",
      "\n",
      "      PDE Total Deaths  Utsu Total Deaths  EM-DAT Total Deaths  \\\n",
      "0                  NaN             5650.0                  NaN   \n",
      "1                  NaN                5.0                  NaN   \n",
      "2                  NaN                2.0                  NaN   \n",
      "3                  NaN                1.0                  NaN   \n",
      "4                 47.0               47.0                 47.0   \n",
      "...                ...                ...                  ...   \n",
      "1222               1.0                1.0                  1.0   \n",
      "1223               7.0                7.0                  7.0   \n",
      "1224              11.0               11.0                  5.0   \n",
      "1225               NaN               24.0                  NaN   \n",
      "1226               3.0                3.0                  NaN   \n",
      "\n",
      "      Other Source Deaths             Country  Deaths  \n",
      "0                     NaN               China  5650.0  \n",
      "1                     NaN               China     5.0  \n",
      "2                     NaN               China     2.0  \n",
      "3                     NaN               China     1.0  \n",
      "4                     NaN              India     47.0  \n",
      "...                   ...                 ...     ...  \n",
      "1222                  NaN           Indonesia     1.0  \n",
      "1223                  NaN           Indonesia     7.0  \n",
      "1224                  NaN  Russian Federation    11.0  \n",
      "1225                  NaN  Russian Federation    24.0  \n",
      "1226                  NaN            Honduras     3.0  \n",
      "\n",
      "[1227 rows x 15 columns]\n"
     ]
    }
   ],
   "source": [
    "print(dftz)"
   ]
  },
  {
   "cell_type": "code",
   "execution_count": 6,
   "metadata": {},
   "outputs": [
    {
     "name": "stdout",
     "output_type": "stream",
     "text": [
      "<class 'pandas.core.frame.DataFrame'>\n",
      "Int64Index: 1227 entries, 0 to 1226\n",
      "Data columns (total 15 columns):\n",
      " #   Column               Non-Null Count  Dtype         \n",
      "---  ------               --------------  -----         \n",
      " 0   Index                1227 non-null   object        \n",
      " 1   TZID                 1227 non-null   object        \n",
      " 2   Origin (UTC)         1227 non-null   datetime64[ns]\n",
      " 3   Lat                  1227 non-null   float64       \n",
      " 4   Long                 1227 non-null   float64       \n",
      " 5   Depth (km)           1158 non-null   float64       \n",
      " 6   Magnitude            1227 non-null   float64       \n",
      " 7   Secondary Effects    364 non-null    object        \n",
      " 8   PDE Shaking Deaths   653 non-null    float64       \n",
      " 9   PDE Total Deaths     663 non-null    float64       \n",
      " 10  Utsu Total Deaths    976 non-null    float64       \n",
      " 11  EM-DAT Total Deaths  540 non-null    float64       \n",
      " 12  Other Source Deaths  24 non-null     float64       \n",
      " 13  Country              1227 non-null   object        \n",
      " 14  Deaths               1151 non-null   float64       \n",
      "dtypes: datetime64[ns](1), float64(10), object(4)\n",
      "memory usage: 153.4+ KB\n"
     ]
    }
   ],
   "source": [
    "dftz.info()"
   ]
  },
  {
   "cell_type": "code",
   "execution_count": 17,
   "metadata": {},
   "outputs": [
    {
     "ename": "NonExistentTimeError",
     "evalue": "1939-04-30 02:55:00",
     "output_type": "error",
     "traceback": [
      "\u001b[1;31m---------------------------------------------------------------------------\u001b[0m",
      "\u001b[1;31mNonExistentTimeError\u001b[0m                      Traceback (most recent call last)",
      "\u001b[1;32m<ipython-input-17-20b982c548ef>\u001b[0m in \u001b[0;36m<module>\u001b[1;34m\u001b[0m\n\u001b[1;32m----> 1\u001b[1;33m \u001b[0mdftz\u001b[0m\u001b[1;33m[\u001b[0m\u001b[1;34m'LocalTime'\u001b[0m\u001b[1;33m]\u001b[0m \u001b[1;33m=\u001b[0m \u001b[0mdftz\u001b[0m\u001b[1;33m[\u001b[0m\u001b[1;34m'Origin (UTC)'\u001b[0m\u001b[1;33m]\u001b[0m\u001b[1;33m.\u001b[0m\u001b[0mapply\u001b[0m\u001b[1;33m(\u001b[0m\u001b[1;32mlambda\u001b[0m \u001b[0mx\u001b[0m\u001b[1;33m:\u001b[0m \u001b[0mx\u001b[0m\u001b[1;33m.\u001b[0m\u001b[0mtz_localize\u001b[0m\u001b[1;33m(\u001b[0m\u001b[1;34m'US/Central'\u001b[0m\u001b[1;33m)\u001b[0m\u001b[1;33m)\u001b[0m\u001b[1;33m\u001b[0m\u001b[1;33m\u001b[0m\u001b[0m\n\u001b[0m",
      "\u001b[1;32mD:\\Anaconda3\\lib\\site-packages\\pandas\\core\\series.py\u001b[0m in \u001b[0;36mapply\u001b[1;34m(self, func, convert_dtype, args, **kwds)\u001b[0m\n\u001b[0;32m   3846\u001b[0m             \u001b[1;32melse\u001b[0m\u001b[1;33m:\u001b[0m\u001b[1;33m\u001b[0m\u001b[1;33m\u001b[0m\u001b[0m\n\u001b[0;32m   3847\u001b[0m                 \u001b[0mvalues\u001b[0m \u001b[1;33m=\u001b[0m \u001b[0mself\u001b[0m\u001b[1;33m.\u001b[0m\u001b[0mastype\u001b[0m\u001b[1;33m(\u001b[0m\u001b[0mobject\u001b[0m\u001b[1;33m)\u001b[0m\u001b[1;33m.\u001b[0m\u001b[0mvalues\u001b[0m\u001b[1;33m\u001b[0m\u001b[1;33m\u001b[0m\u001b[0m\n\u001b[1;32m-> 3848\u001b[1;33m                 \u001b[0mmapped\u001b[0m \u001b[1;33m=\u001b[0m \u001b[0mlib\u001b[0m\u001b[1;33m.\u001b[0m\u001b[0mmap_infer\u001b[0m\u001b[1;33m(\u001b[0m\u001b[0mvalues\u001b[0m\u001b[1;33m,\u001b[0m \u001b[0mf\u001b[0m\u001b[1;33m,\u001b[0m \u001b[0mconvert\u001b[0m\u001b[1;33m=\u001b[0m\u001b[0mconvert_dtype\u001b[0m\u001b[1;33m)\u001b[0m\u001b[1;33m\u001b[0m\u001b[1;33m\u001b[0m\u001b[0m\n\u001b[0m\u001b[0;32m   3849\u001b[0m \u001b[1;33m\u001b[0m\u001b[0m\n\u001b[0;32m   3850\u001b[0m         \u001b[1;32mif\u001b[0m \u001b[0mlen\u001b[0m\u001b[1;33m(\u001b[0m\u001b[0mmapped\u001b[0m\u001b[1;33m)\u001b[0m \u001b[1;32mand\u001b[0m \u001b[0misinstance\u001b[0m\u001b[1;33m(\u001b[0m\u001b[0mmapped\u001b[0m\u001b[1;33m[\u001b[0m\u001b[1;36m0\u001b[0m\u001b[1;33m]\u001b[0m\u001b[1;33m,\u001b[0m \u001b[0mSeries\u001b[0m\u001b[1;33m)\u001b[0m\u001b[1;33m:\u001b[0m\u001b[1;33m\u001b[0m\u001b[1;33m\u001b[0m\u001b[0m\n",
      "\u001b[1;32mpandas\\_libs\\lib.pyx\u001b[0m in \u001b[0;36mpandas._libs.lib.map_infer\u001b[1;34m()\u001b[0m\n",
      "\u001b[1;32m<ipython-input-17-20b982c548ef>\u001b[0m in \u001b[0;36m<lambda>\u001b[1;34m(x)\u001b[0m\n\u001b[1;32m----> 1\u001b[1;33m \u001b[0mdftz\u001b[0m\u001b[1;33m[\u001b[0m\u001b[1;34m'LocalTime'\u001b[0m\u001b[1;33m]\u001b[0m \u001b[1;33m=\u001b[0m \u001b[0mdftz\u001b[0m\u001b[1;33m[\u001b[0m\u001b[1;34m'Origin (UTC)'\u001b[0m\u001b[1;33m]\u001b[0m\u001b[1;33m.\u001b[0m\u001b[0mapply\u001b[0m\u001b[1;33m(\u001b[0m\u001b[1;32mlambda\u001b[0m \u001b[0mx\u001b[0m\u001b[1;33m:\u001b[0m \u001b[0mx\u001b[0m\u001b[1;33m.\u001b[0m\u001b[0mtz_localize\u001b[0m\u001b[1;33m(\u001b[0m\u001b[1;34m'US/Central'\u001b[0m\u001b[1;33m)\u001b[0m\u001b[1;33m)\u001b[0m\u001b[1;33m\u001b[0m\u001b[1;33m\u001b[0m\u001b[0m\n\u001b[0m",
      "\u001b[1;32mpandas\\_libs\\tslibs\\timestamps.pyx\u001b[0m in \u001b[0;36mpandas._libs.tslibs.timestamps.Timestamp.tz_localize\u001b[1;34m()\u001b[0m\n",
      "\u001b[1;32mpandas\\_libs\\tslibs\\tzconversion.pyx\u001b[0m in \u001b[0;36mpandas._libs.tslibs.tzconversion.tz_localize_to_utc\u001b[1;34m()\u001b[0m\n",
      "\u001b[1;31mNonExistentTimeError\u001b[0m: 1939-04-30 02:55:00"
     ]
    }
   ],
   "source": [
    "dftz['LocalTime'] = dftz['Origin (UTC)'].apply(lambda x: x.tz_localize('US/Central'))"
   ]
  },
  {
   "cell_type": "code",
   "execution_count": null,
   "metadata": {},
   "outputs": [],
   "source": []
  },
  {
   "cell_type": "code",
   "execution_count": null,
   "metadata": {},
   "outputs": [],
   "source": []
  },
  {
   "cell_type": "code",
   "execution_count": null,
   "metadata": {},
   "outputs": [],
   "source": []
  },
  {
   "cell_type": "code",
   "execution_count": null,
   "metadata": {},
   "outputs": [],
   "source": []
  },
  {
   "cell_type": "code",
   "execution_count": null,
   "metadata": {},
   "outputs": [],
   "source": []
  },
  {
   "cell_type": "code",
   "execution_count": null,
   "metadata": {},
   "outputs": [],
   "source": []
  },
  {
   "cell_type": "code",
   "execution_count": null,
   "metadata": {},
   "outputs": [],
   "source": [
    "#df.set_index('Origin (UTC)', inplace = True)"
   ]
  },
  {
   "cell_type": "code",
   "execution_count": null,
   "metadata": {},
   "outputs": [],
   "source": []
  }
 ],
 "metadata": {
  "kernelspec": {
   "display_name": "Python 3",
   "language": "python",
   "name": "python3"
  },
  "language_info": {
   "codemirror_mode": {
    "name": "ipython",
    "version": 3
   },
   "file_extension": ".py",
   "mimetype": "text/x-python",
   "name": "python",
   "nbconvert_exporter": "python",
   "pygments_lexer": "ipython3",
   "version": "3.8.3"
  }
 },
 "nbformat": 4,
 "nbformat_minor": 4
}
