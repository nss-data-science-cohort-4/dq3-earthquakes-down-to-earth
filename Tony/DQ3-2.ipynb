{
 "cells": [
  {
   "cell_type": "code",
   "execution_count": 1,
   "metadata": {},
   "outputs": [],
   "source": [
    "import pandas as pd\n",
    "import numpy as np\n",
    "import matplotlib.pyplot as plt\n",
    "import seaborn as sns\n",
    "from datetime import date"
   ]
  },
  {
   "cell_type": "code",
   "execution_count": 2,
   "metadata": {},
   "outputs": [],
   "source": [
    "dftz = pd.read_csv('..\\Data\\dftz.csv')\n",
    "df = pd.read_csv('..\\Data\\df.csv')\n",
    "#print(dftz)"
   ]
  },
  {
   "cell_type": "code",
   "execution_count": 3,
   "metadata": {},
   "outputs": [],
   "source": [
    "dftz['Index'] = dftz['Index'].astype('int')\n",
    "dftz['Index'] = dftz['Index'].astype('str')\n",
    "df['Index'] = df['Index'].astype('str')\n",
    "df['Origin (UTC)'] = pd.to_datetime(df['Origin (UTC)'], utc = True)"
   ]
  },
  {
   "cell_type": "code",
   "execution_count": 4,
   "metadata": {},
   "outputs": [],
   "source": [
    "dftz = dftz.merge(df, on = 'Index', suffixes = ('', '_DEL'))\n",
    "dftz.drop(columns = ['FID'], inplace = True)\n",
    "dftz.drop(columns = ['Lat'], inplace = True)\n",
    "dftz.drop(columns = ['Long'], inplace = True)"
   ]
  },
  {
   "cell_type": "code",
   "execution_count": 5,
   "metadata": {},
   "outputs": [],
   "source": [
    "#dftz['LocalOffset'] = dftz.apply(lambda x: x['Origin (UTC)'].tz_localize(x['TZID'], nonexistent = 'shift_forward'), axis = 1)\n",
    "dftz['LocalTime'] = dftz.apply(lambda x: x['Origin (UTC)'].tz_convert(x['TZID']), axis = 1) "
   ]
  },
  {
   "cell_type": "code",
   "execution_count": 6,
   "metadata": {},
   "outputs": [],
   "source": [
    "dftz['LocalTime'] = pd.to_datetime(dftz['LocalTime'], utc = True)"
   ]
  },
  {
   "cell_type": "code",
   "execution_count": 7,
   "metadata": {},
   "outputs": [],
   "source": [
    "dftz['LocalTime'] = dftz.apply(lambda x: x['LocalTime'].tz_localize(None), axis = 1) "
   ]
  },
  {
   "cell_type": "code",
   "execution_count": 8,
   "metadata": {},
   "outputs": [],
   "source": [
    "dftz.set_index('LocalTime', inplace = True)"
   ]
  },
  {
   "cell_type": "code",
   "execution_count": 9,
   "metadata": {},
   "outputs": [
    {
     "data": {
      "text/plain": [
       "LocalTime\n",
       "1900-12-31     140.000000\n",
       "1910-12-31    3493.065217\n",
       "1920-12-31    8791.514286\n",
       "1930-12-31    6639.857143\n",
       "1940-12-31    2744.639344\n",
       "1950-12-31    2334.701299\n",
       "1960-12-31     459.972603\n",
       "1970-12-31    1426.680000\n",
       "1980-12-31    5206.549669\n",
       "1990-12-31     598.684783\n",
       "2000-12-31     307.716981\n",
       "2010-12-31    3484.025806\n",
       "2020-12-31            NaN\n",
       "Freq: 10A-DEC, Name: Deaths, dtype: float64"
      ]
     },
     "execution_count": 9,
     "metadata": {},
     "output_type": "execute_result"
    }
   ],
   "source": [
    "#dftz.between_time('00:00', '12:00')\n",
    "#dftz.query('')\n",
    "\n",
    "dftz.Deaths.resample('10Y').mean()"
   ]
  },
  {
   "cell_type": "code",
   "execution_count": 10,
   "metadata": {},
   "outputs": [
    {
     "data": {
      "text/plain": [
       "LocalTime\n",
       "1900-12-31      3\n",
       "1910-12-31     53\n",
       "1920-12-31     46\n",
       "1930-12-31     65\n",
       "1940-12-31     65\n",
       "1950-12-31     81\n",
       "1960-12-31     77\n",
       "1970-12-31    103\n",
       "1980-12-31    156\n",
       "1990-12-31    189\n",
       "2000-12-31    213\n",
       "2010-12-31    172\n",
       "2020-12-31      4\n",
       "Freq: 10A-DEC, Name: Index, dtype: int64"
      ]
     },
     "execution_count": 10,
     "metadata": {},
     "output_type": "execute_result"
    }
   ],
   "source": [
    "dftz.Index.resample('10Y').count()"
   ]
  },
  {
   "cell_type": "code",
   "execution_count": null,
   "metadata": {},
   "outputs": [],
   "source": []
  },
  {
   "cell_type": "code",
   "execution_count": 11,
   "metadata": {},
   "outputs": [],
   "source": [
    "#Graphs: DEPTH PER YEAR .mean()\n",
    "#MAGNITUDE PER YEAR .mean()\n",
    "#DEATHS PER YEAR .sum()\n",
    "#COUNTS PER YEAR .count()\n",
    "#DEATHS IN THE MORNING AS A RATIO OF TOTAL DEATHS\n",
    "#DEATHS IN THE DAY AS A RATIO OF TOTAL DEATHS\n",
    "#DEATHS PER EARTHQUAKE"
   ]
  },
  {
   "cell_type": "code",
   "execution_count": null,
   "metadata": {},
   "outputs": [],
   "source": []
  }
 ],
 "metadata": {
  "kernelspec": {
   "display_name": "Python 3",
   "language": "python",
   "name": "python3"
  },
  "language_info": {
   "codemirror_mode": {
    "name": "ipython",
    "version": 3
   },
   "file_extension": ".py",
   "mimetype": "text/x-python",
   "name": "python",
   "nbconvert_exporter": "python",
   "pygments_lexer": "ipython3",
   "version": "3.8.3"
  }
 },
 "nbformat": 4,
 "nbformat_minor": 4
}
