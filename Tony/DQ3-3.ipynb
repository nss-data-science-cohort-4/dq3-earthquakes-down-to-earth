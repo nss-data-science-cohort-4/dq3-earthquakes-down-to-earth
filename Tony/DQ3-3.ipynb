{
 "cells": [
  {
   "cell_type": "code",
   "execution_count": 1,
   "metadata": {},
   "outputs": [],
   "source": [
    "import pandas as pd\n",
    "import numpy as np\n",
    "import matplotlib.pyplot as plt\n",
    "import seaborn as sns\n",
    "from datetime import date\n",
    "import requests\n",
    "from io import StringIO\n",
    "from bs4 import BeautifulSoup as BS\n",
    "import json"
   ]
  },
  {
   "cell_type": "code",
   "execution_count": 2,
   "metadata": {},
   "outputs": [],
   "source": [
    "url = 'https://earthquake.usgs.gov/fdsnws/event/1/query?format=geojson&starttime=1900-01-01&minlatitude=34.452&maxlatitude=37.44&minlongitude=-91.033&maxlongitude=-79.915&eventtype=earthquake'"
   ]
  },
  {
   "cell_type": "code",
   "execution_count": 3,
   "metadata": {},
   "outputs": [],
   "source": [
    "r = requests.get(url)\n",
    "data = r.json()"
   ]
  },
  {
   "cell_type": "code",
   "execution_count": 4,
   "metadata": {},
   "outputs": [
    {
     "data": {
      "text/plain": [
       "200"
      ]
     },
     "execution_count": 4,
     "metadata": {},
     "output_type": "execute_result"
    }
   ],
   "source": [
    "r.status_code"
   ]
  },
  {
   "cell_type": "code",
   "execution_count": 12,
   "metadata": {},
   "outputs": [
    {
     "data": {
      "text/plain": [
       "{'type': 'Feature',\n",
       " 'properties': {'mag': 1.65,\n",
       "  'place': '5 km SSW of Tiptonville, Tennessee',\n",
       "  'time': 1603426158260,\n",
       "  'updated': 1603471929410,\n",
       "  'tz': None,\n",
       "  'url': 'https://earthquake.usgs.gov/earthquakes/eventpage/nm60312902',\n",
       "  'detail': 'https://earthquake.usgs.gov/fdsnws/event/1/query?eventid=nm60312902&format=geojson',\n",
       "  'felt': None,\n",
       "  'cdi': None,\n",
       "  'mmi': None,\n",
       "  'alert': None,\n",
       "  'status': 'reviewed',\n",
       "  'tsunami': 0,\n",
       "  'sig': 42,\n",
       "  'net': 'nm',\n",
       "  'code': '60312902',\n",
       "  'ids': ',nm60312902,',\n",
       "  'sources': ',nm,',\n",
       "  'types': ',origin,phase-data,',\n",
       "  'nst': 24,\n",
       "  'dmin': 0.01857,\n",
       "  'rms': 0.03,\n",
       "  'gap': 47,\n",
       "  'magType': 'md',\n",
       "  'type': 'earthquake',\n",
       "  'title': 'M 1.7 - 5 km SSW of Tiptonville, Tennessee'},\n",
       " 'geometry': {'type': 'Point', 'coordinates': [-89.4846667, 36.3328333, 4.93]},\n",
       " 'id': 'nm60312902'}"
      ]
     },
     "execution_count": 12,
     "metadata": {},
     "output_type": "execute_result"
    }
   ],
   "source": [
    "#data.keys()\n",
    "data['features'][0]"
   ]
  },
  {
   "cell_type": "code",
   "execution_count": 11,
   "metadata": {},
   "outputs": [
    {
     "data": {
      "text/plain": [
       "{'mag': 1.65,\n",
       " 'place': '5 km SSW of Tiptonville, Tennessee',\n",
       " 'time': 1603426158260,\n",
       " 'updated': 1603471929410,\n",
       " 'tz': None,\n",
       " 'url': 'https://earthquake.usgs.gov/earthquakes/eventpage/nm60312902',\n",
       " 'detail': 'https://earthquake.usgs.gov/fdsnws/event/1/query?eventid=nm60312902&format=geojson',\n",
       " 'felt': None,\n",
       " 'cdi': None,\n",
       " 'mmi': None,\n",
       " 'alert': None,\n",
       " 'status': 'reviewed',\n",
       " 'tsunami': 0,\n",
       " 'sig': 42,\n",
       " 'net': 'nm',\n",
       " 'code': '60312902',\n",
       " 'ids': ',nm60312902,',\n",
       " 'sources': ',nm,',\n",
       " 'types': ',origin,phase-data,',\n",
       " 'nst': 24,\n",
       " 'dmin': 0.01857,\n",
       " 'rms': 0.03,\n",
       " 'gap': 47,\n",
       " 'magType': 'md',\n",
       " 'type': 'earthquake',\n",
       " 'title': 'M 1.7 - 5 km SSW of Tiptonville, Tennessee'}"
      ]
     },
     "execution_count": 11,
     "metadata": {},
     "output_type": "execute_result"
    }
   ],
   "source": [
    "data['features'][0]['properties']"
   ]
  },
  {
   "cell_type": "code",
   "execution_count": null,
   "metadata": {},
   "outputs": [],
   "source": [
    "contain = []\n",
    "for d in data['features']:\n",
    "    d['properties']['geometry'] = d['geometry']\n",
    "    d['properties']['id'] = d['id']\n",
    "    contain.append(d['properties'])"
   ]
  },
  {
   "cell_type": "code",
   "execution_count": null,
   "metadata": {},
   "outputs": [],
   "source": [
    "temp = pd.DataFrame(contain)"
   ]
  },
  {
   "cell_type": "code",
   "execution_count": null,
   "metadata": {},
   "outputs": [],
   "source": [
    "temp.info()"
   ]
  },
  {
   "cell_type": "code",
   "execution_count": null,
   "metadata": {},
   "outputs": [],
   "source": []
  }
 ],
 "metadata": {
  "kernelspec": {
   "display_name": "Python 3",
   "language": "python",
   "name": "python3"
  },
  "language_info": {
   "codemirror_mode": {
    "name": "ipython",
    "version": 3
   },
   "file_extension": ".py",
   "mimetype": "text/x-python",
   "name": "python",
   "nbconvert_exporter": "python",
   "pygments_lexer": "ipython3",
   "version": "3.8.3"
  }
 },
 "nbformat": 4,
 "nbformat_minor": 4
}
