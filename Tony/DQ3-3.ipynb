{
 "cells": [
  {
   "cell_type": "code",
   "execution_count": 1,
   "metadata": {},
   "outputs": [],
   "source": [
    "import pandas as pd\n",
    "import numpy as np\n",
    "import matplotlib.pyplot as plt\n",
    "import seaborn as sns\n",
    "from datetime import date\n",
    "import requests\n",
    "from io import StringIO\n",
    "from bs4 import BeautifulSoup as BS\n",
    "import json"
   ]
  },
  {
   "cell_type": "code",
   "execution_count": 2,
   "metadata": {},
   "outputs": [],
   "source": [
    "url = 'https://earthquake.usgs.gov/fdsnws/event/1/query?format=geojson&starttime=1900-01-01&minlatitude=34.452&maxlatitude=37.44&minlongitude=-91.033&maxlongitude=-79.915&eventtype=earthquake'"
   ]
  },
  {
   "cell_type": "code",
   "execution_count": 3,
   "metadata": {},
   "outputs": [],
   "source": [
    "r = requests.get(url)\n",
    "data = r.json()"
   ]
  },
  {
   "cell_type": "code",
   "execution_count": 4,
   "metadata": {},
   "outputs": [
    {
     "data": {
      "text/plain": [
       "200"
      ]
     },
     "execution_count": 4,
     "metadata": {},
     "output_type": "execute_result"
    }
   ],
   "source": [
    "r.status_code"
   ]
  },
  {
   "cell_type": "code",
   "execution_count": 24,
   "metadata": {},
   "outputs": [],
   "source": [
    "#data.keys()\n",
    "#data['features'][0]"
   ]
  },
  {
   "cell_type": "code",
   "execution_count": 25,
   "metadata": {},
   "outputs": [],
   "source": [
    "#data['features'][0]['properties']"
   ]
  },
  {
   "cell_type": "code",
   "execution_count": 7,
   "metadata": {},
   "outputs": [],
   "source": [
    "contain = []\n",
    "for d in data['features']:\n",
    "    d['properties']['geometry'] = d['geometry']\n",
    "    d['properties']['id'] = d['id']\n",
    "    contain.append(d['properties'])"
   ]
  },
  {
   "cell_type": "code",
   "execution_count": 8,
   "metadata": {},
   "outputs": [],
   "source": [
    "full = pd.DataFrame(contain)"
   ]
  },
  {
   "cell_type": "code",
   "execution_count": 9,
   "metadata": {},
   "outputs": [],
   "source": [
    "full['TN'] = full['place'].str.contains('Tennessee')"
   ]
  },
  {
   "cell_type": "code",
   "execution_count": 10,
   "metadata": {},
   "outputs": [],
   "source": [
    "#temp = temp[temp['TN']==True]\n",
    "TN_eq = full.query('TN == True')"
   ]
  },
  {
   "cell_type": "code",
   "execution_count": 26,
   "metadata": {},
   "outputs": [],
   "source": [
    "#TN_eq.info()"
   ]
  },
  {
   "cell_type": "code",
   "execution_count": 12,
   "metadata": {},
   "outputs": [
    {
     "name": "stderr",
     "output_type": "stream",
     "text": [
      "<ipython-input-12-72c8d77f3930>:1: SettingWithCopyWarning: \n",
      "A value is trying to be set on a copy of a slice from a DataFrame\n",
      "\n",
      "See the caveats in the documentation: https://pandas.pydata.org/pandas-docs/stable/user_guide/indexing.html#returning-a-view-versus-a-copy\n",
      "  TN_eq.query('mag >= 2.5', inplace = True)\n"
     ]
    }
   ],
   "source": [
    "TN_eq.query('mag >= 2.5', inplace = True)"
   ]
  },
  {
   "cell_type": "code",
   "execution_count": 13,
   "metadata": {},
   "outputs": [],
   "source": [
    "#TN_eq.to_csv(r'..\\Data\\TN_eq.csv', index = False)"
   ]
  },
  {
   "cell_type": "code",
   "execution_count": 14,
   "metadata": {},
   "outputs": [],
   "source": [
    "arc = pd.read_csv('../Data/arc.csv')"
   ]
  },
  {
   "cell_type": "code",
   "execution_count": 15,
   "metadata": {},
   "outputs": [],
   "source": [
    "arc['time'] = pd.to_datetime(arc['time'])\n",
    "arc.drop(columns = ['FID','FID_1'], inplace = True)"
   ]
  },
  {
   "cell_type": "code",
   "execution_count": 16,
   "metadata": {},
   "outputs": [
    {
     "name": "stdout",
     "output_type": "stream",
     "text": [
      "<class 'pandas.core.frame.DataFrame'>\n",
      "RangeIndex: 301 entries, 0 to 300\n",
      "Data columns (total 23 columns):\n",
      " #   Column      Non-Null Count  Dtype              \n",
      "---  ------      --------------  -----              \n",
      " 0   time        301 non-null    datetime64[ns, UTC]\n",
      " 1   latitude    301 non-null    float64            \n",
      " 2   longitude   301 non-null    float64            \n",
      " 3   depth       301 non-null    float64            \n",
      " 4   mag         301 non-null    float64            \n",
      " 5   magType     301 non-null    object             \n",
      " 6   nst         301 non-null    int64              \n",
      " 7   gap         301 non-null    int64              \n",
      " 8   dmin        301 non-null    float64            \n",
      " 9   rms         301 non-null    float64            \n",
      " 10  net         301 non-null    object             \n",
      " 11  id          301 non-null    object             \n",
      " 12  updated     301 non-null    object             \n",
      " 13  place       301 non-null    object             \n",
      " 14  horizontal  301 non-null    float64            \n",
      " 15  depthError  301 non-null    float64            \n",
      " 16  magError    301 non-null    float64            \n",
      " 17  magNst      301 non-null    int64              \n",
      " 18  locationSo  301 non-null    object             \n",
      " 19  magSource   301 non-null    object             \n",
      " 20  NAME        301 non-null    object             \n",
      " 21  County      301 non-null    object             \n",
      " 22  2019POP     301 non-null    float64            \n",
      "dtypes: datetime64[ns, UTC](1), float64(10), int64(3), object(9)\n",
      "memory usage: 54.2+ KB\n"
     ]
    }
   ],
   "source": [
    "arc.info()"
   ]
  },
  {
   "cell_type": "code",
   "execution_count": 17,
   "metadata": {},
   "outputs": [],
   "source": [
    "arc.set_index('time', inplace = True)"
   ]
  },
  {
   "cell_type": "code",
   "execution_count": 29,
   "metadata": {},
   "outputs": [
    {
     "data": {
      "text/plain": [
       "time\n",
       "1913-12-31 00:00:00+00:00    4.1\n",
       "1923-12-31 00:00:00+00:00    4.5\n",
       "1933-12-31 00:00:00+00:00    4.5\n",
       "1943-12-31 00:00:00+00:00    NaN\n",
       "1953-12-31 00:00:00+00:00    NaN\n",
       "1963-12-31 00:00:00+00:00    4.1\n",
       "1973-12-31 00:00:00+00:00    4.7\n",
       "1983-12-31 00:00:00+00:00    4.1\n",
       "1993-12-31 00:00:00+00:00    4.2\n",
       "2003-12-31 00:00:00+00:00    3.8\n",
       "2013-12-31 00:00:00+00:00    4.0\n",
       "2023-12-31 00:00:00+00:00    4.4\n",
       "Freq: 10A-DEC, Name: mag, dtype: float64"
      ]
     },
     "execution_count": 29,
     "metadata": {},
     "output_type": "execute_result"
    }
   ],
   "source": [
    "arc.mag.resample('10Y').max()"
   ]
  },
  {
   "cell_type": "code",
   "execution_count": null,
   "metadata": {},
   "outputs": [],
   "source": []
  },
  {
   "cell_type": "code",
   "execution_count": null,
   "metadata": {},
   "outputs": [],
   "source": []
  },
  {
   "cell_type": "code",
   "execution_count": null,
   "metadata": {},
   "outputs": [],
   "source": []
  }
 ],
 "metadata": {
  "kernelspec": {
   "display_name": "Python 3",
   "language": "python",
   "name": "python3"
  },
  "language_info": {
   "codemirror_mode": {
    "name": "ipython",
    "version": 3
   },
   "file_extension": ".py",
   "mimetype": "text/x-python",
   "name": "python",
   "nbconvert_exporter": "python",
   "pygments_lexer": "ipython3",
   "version": "3.8.3"
  }
 },
 "nbformat": 4,
 "nbformat_minor": 4
}
