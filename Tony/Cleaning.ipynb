{
 "cells": [
  {
   "cell_type": "code",
   "execution_count": 41,
   "metadata": {},
   "outputs": [],
   "source": [
    "import requests\n",
    "import pandas as pd\n",
    "from bs4 import BeautifulSoup\n",
    "from io import StringIO"
   ]
  },
  {
   "cell_type": "code",
   "execution_count": 42,
   "metadata": {},
   "outputs": [],
   "source": [
    "url = 'https://en.wikipedia.org/wiki/List_of_deadly_earthquakes_since_1900'"
   ]
  },
  {
   "cell_type": "code",
   "execution_count": 48,
   "metadata": {},
   "outputs": [],
   "source": [
    "df = pd.read_html(url, attrs={\"class\": \"wikitable\"})[0]"
   ]
  },
  {
   "cell_type": "code",
   "execution_count": 49,
   "metadata": {},
   "outputs": [
    {
     "data": {
      "text/plain": [
       "pandas.core.frame.DataFrame"
      ]
     },
     "execution_count": 49,
     "metadata": {},
     "output_type": "execute_result"
    }
   ],
   "source": [
    "type(df)"
   ]
  },
  {
   "cell_type": "code",
   "execution_count": 50,
   "metadata": {},
   "outputs": [
    {
     "name": "stdout",
     "output_type": "stream",
     "text": [
      "          Origin (UTC) Present-day country and link to Wikipedia article  \\\n",
      "0     1900-05-11 17:23                                             Japan   \n",
      "1     1900-07-12 06:25                                            Turkey   \n",
      "2     1900-10-29 09:11                                         Venezuela   \n",
      "3     1901-02-15 00:00                                             China   \n",
      "4     1901-03-31 07:11                                          Bulgaria   \n",
      "...                ...                                               ...   \n",
      "1335  2011-03-24 20:25                 Burma (see 2011 Burma earthquake)   \n",
      "1336  2011-04-07 14:32          Japan (see April 2011 Miyagi earthquake)   \n",
      "1337  2011-09-18 12:40                India (see 2011 Sikkim earthquake)   \n",
      "1338  2011-09-23 10:41                  Turkey (see 2011 Van earthquake)   \n",
      "1339  2018-08-05 19:46                 Indonesia (see Lombok earthquake)   \n",
      "\n",
      "         Lat     Long Depth (km) Magnitude Secondary Effects  \\\n",
      "0     38.700  141.100          5  7.0 MJMA               NaN   \n",
      "1     40.300   43.100        NaN   5.9 Muk               NaN   \n",
      "2     11.000  -66.000          0    7.7 Mw               NaN   \n",
      "3     26.000  100.100          0    6.5 Ms               NaN   \n",
      "4     43.400   28.700        NaN   6.4 Muk               NaN   \n",
      "...      ...      ...        ...       ...               ...   \n",
      "1335     NaN      NaN        NaN    6.8 Mw               NaN   \n",
      "1336    38.2    140.0       66.0    7.1 Mw               NaN   \n",
      "1337  27.723   88.064       19.7    6.9 Mw                 L   \n",
      "1338    38.6     43.5        7.2    7.1 Mw               NaN   \n",
      "1339     NaN      NaN       31.0    6.9 Mw               NaN   \n",
      "\n",
      "      PDE Shaking Deaths  PDE Total Deaths  Utsu Total Deaths  \\\n",
      "0                    NaN               NaN                NaN   \n",
      "1                    NaN               NaN              140.0   \n",
      "2                    NaN               NaN                NaN   \n",
      "3                    NaN               NaN                NaN   \n",
      "4                    NaN               NaN                4.0   \n",
      "...                  ...               ...                ...   \n",
      "1335                 NaN               NaN                NaN   \n",
      "1336                 NaN               NaN                NaN   \n",
      "1337                 NaN               NaN                NaN   \n",
      "1338                 NaN               NaN                NaN   \n",
      "1339                 NaN               NaN                NaN   \n",
      "\n",
      "     EM-DAT Total Deaths           Other Source Deaths  \n",
      "0                    NaN                           NaN  \n",
      "1                    NaN                           NaN  \n",
      "2                    NaN                           NaN  \n",
      "3                    NaN                           NaN  \n",
      "4                    NaN                           NaN  \n",
      "...                  ...                           ...  \n",
      "1335                 NaN                          150+  \n",
      "1336                 NaN                           NaN  \n",
      "1337                 NaN                          111+  \n",
      "1338                 NaN  601 (as of October 30, 2011)  \n",
      "1339                 NaN                           NaN  \n",
      "\n",
      "[1340 rows x 12 columns]\n"
     ]
    }
   ],
   "source": [
    "print(df)"
   ]
  },
  {
   "cell_type": "code",
   "execution_count": null,
   "metadata": {},
   "outputs": [],
   "source": []
  }
 ],
 "metadata": {
  "kernelspec": {
   "display_name": "Python 3",
   "language": "python",
   "name": "python3"
  },
  "language_info": {
   "codemirror_mode": {
    "name": "ipython",
    "version": 3
   },
   "file_extension": ".py",
   "mimetype": "text/x-python",
   "name": "python",
   "nbconvert_exporter": "python",
   "pygments_lexer": "ipython3",
   "version": "3.8.3"
  }
 },
 "nbformat": 4,
 "nbformat_minor": 4
}
