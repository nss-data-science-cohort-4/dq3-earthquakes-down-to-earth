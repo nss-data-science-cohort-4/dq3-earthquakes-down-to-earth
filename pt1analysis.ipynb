{
 "cells": [
  {
   "cell_type": "code",
   "execution_count": 1,
   "metadata": {},
   "outputs": [],
   "source": [
    "import pandas as pd\n",
    "import matplotlib.pyplot as plt\n",
    "import regex as re"
   ]
  },
  {
   "cell_type": "code",
   "execution_count": 2,
   "metadata": {},
   "outputs": [],
   "source": [
    "clean_earthquake = pd.read_csv('../dq3-earthquakes-down-to-earth/cleandata.csv')"
   ]
  },
  {
   "cell_type": "code",
   "execution_count": 3,
   "metadata": {},
   "outputs": [],
   "source": [
    "clean_earthquake['Year'] = clean_earthquake['Origin (UTC)'].str.extract('(\\d{4})')"
   ]
  },
  {
   "cell_type": "code",
   "execution_count": 4,
   "metadata": {},
   "outputs": [
    {
     "data": {
      "text/html": [
       "<div>\n",
       "<style scoped>\n",
       "    .dataframe tbody tr th:only-of-type {\n",
       "        vertical-align: middle;\n",
       "    }\n",
       "\n",
       "    .dataframe tbody tr th {\n",
       "        vertical-align: top;\n",
       "    }\n",
       "\n",
       "    .dataframe thead th {\n",
       "        text-align: right;\n",
       "    }\n",
       "</style>\n",
       "<table border=\"1\" class=\"dataframe\">\n",
       "  <thead>\n",
       "    <tr style=\"text-align: right;\">\n",
       "      <th></th>\n",
       "      <th>Origin (UTC)</th>\n",
       "      <th>Present-day country and link to Wikipedia article</th>\n",
       "      <th>Lat</th>\n",
       "      <th>Long</th>\n",
       "      <th>Depth (km)</th>\n",
       "      <th>Magnitude</th>\n",
       "      <th>Secondary Effects</th>\n",
       "      <th>PDE Shaking Deaths</th>\n",
       "      <th>PDE Total Deaths</th>\n",
       "      <th>Utsu Total Deaths</th>\n",
       "      <th>EM-DAT Total Deaths</th>\n",
       "      <th>Other Source Deaths</th>\n",
       "      <th>Deaths</th>\n",
       "      <th>Year</th>\n",
       "    </tr>\n",
       "  </thead>\n",
       "  <tbody>\n",
       "    <tr>\n",
       "      <th>0</th>\n",
       "      <td>1900-05-11 17:23</td>\n",
       "      <td>Japan</td>\n",
       "      <td>38.700</td>\n",
       "      <td>141.100</td>\n",
       "      <td>5</td>\n",
       "      <td>7.0</td>\n",
       "      <td>NaN</td>\n",
       "      <td>NaN</td>\n",
       "      <td>NaN</td>\n",
       "      <td>NaN</td>\n",
       "      <td>NaN</td>\n",
       "      <td>0</td>\n",
       "      <td>0.0</td>\n",
       "      <td>1900</td>\n",
       "    </tr>\n",
       "    <tr>\n",
       "      <th>1</th>\n",
       "      <td>1900-07-12 06:25</td>\n",
       "      <td>Turkey</td>\n",
       "      <td>40.300</td>\n",
       "      <td>43.100</td>\n",
       "      <td>NaN</td>\n",
       "      <td>5.9</td>\n",
       "      <td>NaN</td>\n",
       "      <td>NaN</td>\n",
       "      <td>NaN</td>\n",
       "      <td>140.0</td>\n",
       "      <td>NaN</td>\n",
       "      <td>0</td>\n",
       "      <td>140.0</td>\n",
       "      <td>1900</td>\n",
       "    </tr>\n",
       "    <tr>\n",
       "      <th>2</th>\n",
       "      <td>1900-10-29 09:11</td>\n",
       "      <td>Venezuela</td>\n",
       "      <td>11.000</td>\n",
       "      <td>-66.000</td>\n",
       "      <td>0</td>\n",
       "      <td>7.7</td>\n",
       "      <td>NaN</td>\n",
       "      <td>NaN</td>\n",
       "      <td>NaN</td>\n",
       "      <td>NaN</td>\n",
       "      <td>NaN</td>\n",
       "      <td>0</td>\n",
       "      <td>0.0</td>\n",
       "      <td>1900</td>\n",
       "    </tr>\n",
       "    <tr>\n",
       "      <th>3</th>\n",
       "      <td>1901-02-15 00:00</td>\n",
       "      <td>China</td>\n",
       "      <td>26.000</td>\n",
       "      <td>100.100</td>\n",
       "      <td>0</td>\n",
       "      <td>6.5</td>\n",
       "      <td>NaN</td>\n",
       "      <td>NaN</td>\n",
       "      <td>NaN</td>\n",
       "      <td>NaN</td>\n",
       "      <td>NaN</td>\n",
       "      <td>0</td>\n",
       "      <td>0.0</td>\n",
       "      <td>1901</td>\n",
       "    </tr>\n",
       "    <tr>\n",
       "      <th>4</th>\n",
       "      <td>1901-03-31 07:11</td>\n",
       "      <td>Bulgaria</td>\n",
       "      <td>43.400</td>\n",
       "      <td>28.700</td>\n",
       "      <td>NaN</td>\n",
       "      <td>6.4</td>\n",
       "      <td>NaN</td>\n",
       "      <td>NaN</td>\n",
       "      <td>NaN</td>\n",
       "      <td>4.0</td>\n",
       "      <td>NaN</td>\n",
       "      <td>0</td>\n",
       "      <td>4.0</td>\n",
       "      <td>1901</td>\n",
       "    </tr>\n",
       "    <tr>\n",
       "      <th>...</th>\n",
       "      <td>...</td>\n",
       "      <td>...</td>\n",
       "      <td>...</td>\n",
       "      <td>...</td>\n",
       "      <td>...</td>\n",
       "      <td>...</td>\n",
       "      <td>...</td>\n",
       "      <td>...</td>\n",
       "      <td>...</td>\n",
       "      <td>...</td>\n",
       "      <td>...</td>\n",
       "      <td>...</td>\n",
       "      <td>...</td>\n",
       "      <td>...</td>\n",
       "    </tr>\n",
       "    <tr>\n",
       "      <th>1240</th>\n",
       "      <td>2011-03-24 20:25</td>\n",
       "      <td>Burma</td>\n",
       "      <td>NaN</td>\n",
       "      <td>NaN</td>\n",
       "      <td>NaN</td>\n",
       "      <td>6.8</td>\n",
       "      <td>NaN</td>\n",
       "      <td>NaN</td>\n",
       "      <td>NaN</td>\n",
       "      <td>NaN</td>\n",
       "      <td>NaN</td>\n",
       "      <td>150</td>\n",
       "      <td>150.0</td>\n",
       "      <td>2011</td>\n",
       "    </tr>\n",
       "    <tr>\n",
       "      <th>1241</th>\n",
       "      <td>2011-04-07 14:32</td>\n",
       "      <td>Japan</td>\n",
       "      <td>38.2</td>\n",
       "      <td>140.0</td>\n",
       "      <td>66.0</td>\n",
       "      <td>7.1</td>\n",
       "      <td>NaN</td>\n",
       "      <td>NaN</td>\n",
       "      <td>NaN</td>\n",
       "      <td>NaN</td>\n",
       "      <td>NaN</td>\n",
       "      <td>0</td>\n",
       "      <td>0.0</td>\n",
       "      <td>2011</td>\n",
       "    </tr>\n",
       "    <tr>\n",
       "      <th>1242</th>\n",
       "      <td>2011-09-18 12:40</td>\n",
       "      <td>India</td>\n",
       "      <td>27.723</td>\n",
       "      <td>88.064</td>\n",
       "      <td>19.7</td>\n",
       "      <td>6.9</td>\n",
       "      <td>L</td>\n",
       "      <td>NaN</td>\n",
       "      <td>NaN</td>\n",
       "      <td>NaN</td>\n",
       "      <td>NaN</td>\n",
       "      <td>111</td>\n",
       "      <td>111.0</td>\n",
       "      <td>2011</td>\n",
       "    </tr>\n",
       "    <tr>\n",
       "      <th>1243</th>\n",
       "      <td>2011-09-23 10:41</td>\n",
       "      <td>Turkey</td>\n",
       "      <td>38.6</td>\n",
       "      <td>43.5</td>\n",
       "      <td>7.2</td>\n",
       "      <td>7.1</td>\n",
       "      <td>NaN</td>\n",
       "      <td>NaN</td>\n",
       "      <td>NaN</td>\n",
       "      <td>NaN</td>\n",
       "      <td>NaN</td>\n",
       "      <td>601</td>\n",
       "      <td>601.0</td>\n",
       "      <td>2011</td>\n",
       "    </tr>\n",
       "    <tr>\n",
       "      <th>1244</th>\n",
       "      <td>2018-08-05 19:46</td>\n",
       "      <td>Indonesia</td>\n",
       "      <td>NaN</td>\n",
       "      <td>NaN</td>\n",
       "      <td>31.0</td>\n",
       "      <td>6.9</td>\n",
       "      <td>NaN</td>\n",
       "      <td>NaN</td>\n",
       "      <td>NaN</td>\n",
       "      <td>NaN</td>\n",
       "      <td>NaN</td>\n",
       "      <td>0</td>\n",
       "      <td>0.0</td>\n",
       "      <td>2018</td>\n",
       "    </tr>\n",
       "  </tbody>\n",
       "</table>\n",
       "<p>1245 rows × 14 columns</p>\n",
       "</div>"
      ],
      "text/plain": [
       "          Origin (UTC) Present-day country and link to Wikipedia article  \\\n",
       "0     1900-05-11 17:23                                             Japan   \n",
       "1     1900-07-12 06:25                                            Turkey   \n",
       "2     1900-10-29 09:11                                         Venezuela   \n",
       "3     1901-02-15 00:00                                             China   \n",
       "4     1901-03-31 07:11                                          Bulgaria   \n",
       "...                ...                                               ...   \n",
       "1240  2011-03-24 20:25                                             Burma   \n",
       "1241  2011-04-07 14:32                                             Japan   \n",
       "1242  2011-09-18 12:40                                             India   \n",
       "1243  2011-09-23 10:41                                            Turkey   \n",
       "1244  2018-08-05 19:46                                         Indonesia   \n",
       "\n",
       "         Lat     Long Depth (km)  Magnitude Secondary Effects  \\\n",
       "0     38.700  141.100          5        7.0               NaN   \n",
       "1     40.300   43.100        NaN        5.9               NaN   \n",
       "2     11.000  -66.000          0        7.7               NaN   \n",
       "3     26.000  100.100          0        6.5               NaN   \n",
       "4     43.400   28.700        NaN        6.4               NaN   \n",
       "...      ...      ...        ...        ...               ...   \n",
       "1240     NaN      NaN        NaN        6.8               NaN   \n",
       "1241    38.2    140.0       66.0        7.1               NaN   \n",
       "1242  27.723   88.064       19.7        6.9                 L   \n",
       "1243    38.6     43.5        7.2        7.1               NaN   \n",
       "1244     NaN      NaN       31.0        6.9               NaN   \n",
       "\n",
       "      PDE Shaking Deaths  PDE Total Deaths  Utsu Total Deaths  \\\n",
       "0                    NaN               NaN                NaN   \n",
       "1                    NaN               NaN              140.0   \n",
       "2                    NaN               NaN                NaN   \n",
       "3                    NaN               NaN                NaN   \n",
       "4                    NaN               NaN                4.0   \n",
       "...                  ...               ...                ...   \n",
       "1240                 NaN               NaN                NaN   \n",
       "1241                 NaN               NaN                NaN   \n",
       "1242                 NaN               NaN                NaN   \n",
       "1243                 NaN               NaN                NaN   \n",
       "1244                 NaN               NaN                NaN   \n",
       "\n",
       "      EM-DAT Total Deaths  Other Source Deaths  Deaths  Year  \n",
       "0                     NaN                    0     0.0  1900  \n",
       "1                     NaN                    0   140.0  1900  \n",
       "2                     NaN                    0     0.0  1900  \n",
       "3                     NaN                    0     0.0  1901  \n",
       "4                     NaN                    0     4.0  1901  \n",
       "...                   ...                  ...     ...   ...  \n",
       "1240                  NaN                  150   150.0  2011  \n",
       "1241                  NaN                    0     0.0  2011  \n",
       "1242                  NaN                  111   111.0  2011  \n",
       "1243                  NaN                  601   601.0  2011  \n",
       "1244                  NaN                    0     0.0  2018  \n",
       "\n",
       "[1245 rows x 14 columns]"
      ]
     },
     "execution_count": 4,
     "metadata": {},
     "output_type": "execute_result"
    }
   ],
   "source": [
    "clean_earthquake"
   ]
  },
  {
   "cell_type": "code",
   "execution_count": 5,
   "metadata": {},
   "outputs": [
    {
     "data": {
      "text/plain": [
       "China                              153\n",
       "Indonesia                           95\n",
       "Iran                                85\n",
       "Turkey                              82\n",
       "Japan                               82\n",
       "                                  ... \n",
       "Tajik Soviet Socialist Republic      1\n",
       "Sudan                                1\n",
       "Martinique                           1\n",
       "Vietnam                              1\n",
       "Macedonia                            1\n",
       "Name: Present-day country and link to Wikipedia article, Length: 103, dtype: int64"
      ]
     },
     "execution_count": 5,
     "metadata": {},
     "output_type": "execute_result"
    }
   ],
   "source": [
    "common_quakes = clean_earthquake['Present-day country and link to Wikipedia article'].value_counts()\n",
    "common_quakes"
   ]
  },
  {
   "cell_type": "code",
   "execution_count": 6,
   "metadata": {},
   "outputs": [],
   "source": [
    "country_deaths = clean_earthquake.groupby('Present-day country and link to Wikipedia article').agg(sum).sort_values(by='Deaths',ascending=False).reset_index()"
   ]
  },
  {
   "cell_type": "code",
   "execution_count": 13,
   "metadata": {},
   "outputs": [],
   "source": [
    "deadliest_quakes = country_deaths.drop(['Magnitude','PDE Shaking Deaths','PDE Total Deaths','Utsu Total Deaths','EM-DAT Total Deaths','Other Source Deaths'], axis=1)\n",
    "top_10_deadly = deadliest_quakes.head(10)"
   ]
  },
  {
   "cell_type": "code",
   "execution_count": 8,
   "metadata": {},
   "outputs": [
    {
     "data": {
      "text/plain": [
       "<matplotlib.axes._subplots.AxesSubplot at 0x219616855e0>"
      ]
     },
     "execution_count": 8,
     "metadata": {},
     "output_type": "execute_result"
    },
    {
     "data": {
      "image/png": "[encoded data removed]",
      "text/plain": [
       "<Figure size 432x288 with 1 Axes>"
      ]
     },
     "metadata": {
      "needs_background": "light"
     },
     "output_type": "display_data"
    }
   ],
   "source": [
    "deadliest_quakes.plot(kind='bar', x='Present-day country and link to Wikipedia article',y='Deaths')"
   ]
  },
  {
   "cell_type": "code",
   "execution_count": 9,
   "metadata": {},
   "outputs": [],
   "source": [
    "strongest_quakes = clean_earthquake.groupby('Present-day country and link to Wikipedia article').agg('mean').reset_index().drop(['Deaths','PDE Shaking Deaths','PDE Total Deaths','Utsu Total Deaths','EM-DAT Total Deaths','Other Source Deaths'], axis=1)"
   ]
  },
  {
   "cell_type": "code",
   "execution_count": 14,
   "metadata": {},
   "outputs": [],
   "source": [
    "strongest_quakes = strongest_quakes.sort_values('Magnitude', ascending=False)\n",
    "top_10_strong = strongest_quakes.head(10)"
   ]
  },
  {
   "cell_type": "code",
   "execution_count": 11,
   "metadata": {},
   "outputs": [],
   "source": [
    "#look into population density: looks like none of the strongest quakes top five match up with deadliest quakes top five, could do a line graph of pop density by year of top 5 deadly and top 5 strong to show the disparity. pull year range of the clean earthquakes data frame"
   ]
  },
  {
   "cell_type": "code",
   "execution_count": 17,
   "metadata": {},
   "outputs": [
    {
     "data": {
      "text/plain": [
       "0        China\n",
       "1    Indonesia\n",
       "2        Haiti\n",
       "3        Japan\n",
       "4         Iran\n",
       "5     Pakistan\n",
       "6        Italy\n",
       "7       Turkey\n",
       "8         Peru\n",
       "9        India\n",
       "Name: Present-day country and link to Wikipedia article, dtype: object"
      ]
     },
     "execution_count": 17,
     "metadata": {},
     "output_type": "execute_result"
    }
   ],
   "source": [
    "top_10_deadly['Present-day country and link to Wikipedia article']"
   ]
  },
  {
   "cell_type": "code",
   "execution_count": 18,
   "metadata": {},
   "outputs": [
    {
     "data": {
      "text/plain": [
       "77                              Samoa\n",
       "57                           Mongolia\n",
       "81                    Solomon Islands\n",
       "87    Tajik Soviet Socialist Republic\n",
       "55                         Martinique\n",
       "14                              Chile\n",
       "72                        Puerto Rico\n",
       "76          Saint Pierre and Miquelon\n",
       "93             US Territory of Alaska\n",
       "78                 Saudi Arabia/Egypt\n",
       "Name: Present-day country and link to Wikipedia article, dtype: object"
      ]
     },
     "execution_count": 18,
     "metadata": {},
     "output_type": "execute_result"
    }
   ],
   "source": [
    "top_10_strong['Present-day country and link to Wikipedia article']"
   ]
  },
  {
   "cell_type": "code",
   "execution_count": null,
   "metadata": {},
   "outputs": [],
   "source": []
  }
 ],
 "metadata": {
  "kernelspec": {
   "display_name": "Python 3",
   "language": "python",
   "name": "python3"
  },
  "language_info": {
   "codemirror_mode": {
    "name": "ipython",
    "version": 3
   },
   "file_extension": ".py",
   "mimetype": "text/x-python",
   "name": "python",
   "nbconvert_exporter": "python",
   "pygments_lexer": "ipython3",
   "version": "3.8.3"
  }
 },
 "nbformat": 4,
 "nbformat_minor": 4
}
