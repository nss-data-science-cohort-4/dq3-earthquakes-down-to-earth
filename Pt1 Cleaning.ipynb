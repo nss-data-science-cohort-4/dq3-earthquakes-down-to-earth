{
 "cells": [
  {
   "cell_type": "code",
   "execution_count": 1,
   "metadata": {},
   "outputs": [],
   "source": [
    "import pandas as pd\n",
    "import requests \n",
    "from bs4 import BeautifulSoup as BS\n",
    "from IPython.core.display import HTML\n",
    "import json\n",
    "import re"
   ]
  },
  {
   "cell_type": "code",
   "execution_count": 2,
   "metadata": {},
   "outputs": [],
   "source": [
    "url = 'https://en.wikipedia.org/wiki/List_of_deadly_earthquakes_since_1900'"
   ]
  },
  {
   "cell_type": "code",
   "execution_count": 3,
   "metadata": {},
   "outputs": [],
   "source": [
    "response = requests.get(url)"
   ]
  },
  {
   "cell_type": "code",
   "execution_count": 4,
   "metadata": {},
   "outputs": [],
   "source": [
    "wiki_page = BS(response.text)"
   ]
  },
  {
   "cell_type": "code",
   "execution_count": 5,
   "metadata": {},
   "outputs": [],
   "source": [
    "wiki_table = wiki_page.find('table',{'class':'wikitable'})"
   ]
  },
  {
   "cell_type": "code",
   "execution_count": 6,
   "metadata": {},
   "outputs": [],
   "source": [
    "wiki_list = pd.read_html(str(wiki_table))"
   ]
  },
  {
   "cell_type": "code",
   "execution_count": 7,
   "metadata": {},
   "outputs": [],
   "source": [
    "wiki_df = pd.DataFrame(wiki_list[0])"
   ]
  },
  {
   "cell_type": "code",
   "execution_count": 8,
   "metadata": {},
   "outputs": [],
   "source": [
    "#regex to get footnoes out of other deaths column \n",
    "#point1 = wiki_df.iloc[1338,-1]"
   ]
  },
  {
   "cell_type": "code",
   "execution_count": 9,
   "metadata": {},
   "outputs": [],
   "source": [
    "#regex to get footnoes out of other deaths column \n",
    "#re.match('(\\d+)', point1)"
   ]
  },
  {
   "cell_type": "code",
   "execution_count": 10,
   "metadata": {},
   "outputs": [
    {
     "data": {
      "text/plain": [
       "array([nan, '3500', '8000+', '46', '164[6]', '1500[6]', '105000', '1404',\n",
       "       '1', '120', '200', '380', '2041', '33[8]', '45000[9]', '2489[10]',\n",
       "       '26271[11] 26000[12]', '68', '231000*[13] 283000*[14] 227898*[15]',\n",
       "       '41', '60[16]', '215', '34', '295', '79', '189', '1115',\n",
       "       '222,517[17]', '521[19]', '42', '2698', '185', '15894[20]', '150+',\n",
       "       '111+', '601 (as of October 30, 2011)'], dtype=object)"
      ]
     },
     "execution_count": 10,
     "metadata": {},
     "output_type": "execute_result"
    }
   ],
   "source": [
    "wiki_df['Other Source Deaths'].unique()"
   ]
  },
  {
   "cell_type": "code",
   "execution_count": 11,
   "metadata": {},
   "outputs": [
    {
     "data": {
      "text/html": [
       "<div>\n",
       "<style scoped>\n",
       "    .dataframe tbody tr th:only-of-type {\n",
       "        vertical-align: middle;\n",
       "    }\n",
       "\n",
       "    .dataframe tbody tr th {\n",
       "        vertical-align: top;\n",
       "    }\n",
       "\n",
       "    .dataframe thead th {\n",
       "        text-align: right;\n",
       "    }\n",
       "</style>\n",
       "<table border=\"1\" class=\"dataframe\">\n",
       "  <thead>\n",
       "    <tr style=\"text-align: right;\">\n",
       "      <th></th>\n",
       "      <th>Origin (UTC)</th>\n",
       "      <th>Present-day country and link to Wikipedia article</th>\n",
       "      <th>Lat</th>\n",
       "      <th>Long</th>\n",
       "      <th>Depth (km)</th>\n",
       "      <th>Magnitude</th>\n",
       "      <th>Secondary Effects</th>\n",
       "      <th>PDE Shaking Deaths</th>\n",
       "      <th>PDE Total Deaths</th>\n",
       "      <th>Utsu Total Deaths</th>\n",
       "      <th>EM-DAT Total Deaths</th>\n",
       "      <th>Other Source Deaths</th>\n",
       "    </tr>\n",
       "  </thead>\n",
       "  <tbody>\n",
       "    <tr>\n",
       "      <th>1237</th>\n",
       "      <td>2004-12-26 00:58</td>\n",
       "      <td>Indonesia (see 2004 Indian Ocean earthquake)</td>\n",
       "      <td>3.287</td>\n",
       "      <td>95.972</td>\n",
       "      <td>30</td>\n",
       "      <td>9.1 Mw</td>\n",
       "      <td>T,L</td>\n",
       "      <td>NaN</td>\n",
       "      <td>297200.0</td>\n",
       "      <td>NaN</td>\n",
       "      <td>NaN</td>\n",
       "      <td>231000*[13] 283000*[14] 227898*[15]</td>\n",
       "    </tr>\n",
       "  </tbody>\n",
       "</table>\n",
       "</div>"
      ],
      "text/plain": [
       "          Origin (UTC) Present-day country and link to Wikipedia article  \\\n",
       "1237  2004-12-26 00:58      Indonesia (see 2004 Indian Ocean earthquake)   \n",
       "\n",
       "        Lat    Long Depth (km) Magnitude Secondary Effects  \\\n",
       "1237  3.287  95.972         30    9.1 Mw               T,L   \n",
       "\n",
       "      PDE Shaking Deaths  PDE Total Deaths  Utsu Total Deaths  \\\n",
       "1237                 NaN          297200.0                NaN   \n",
       "\n",
       "     EM-DAT Total Deaths                  Other Source Deaths  \n",
       "1237                 NaN  231000*[13] 283000*[14] 227898*[15]  "
      ]
     },
     "execution_count": 11,
     "metadata": {},
     "output_type": "execute_result"
    }
   ],
   "source": [
    "#doing this to get the index value of the point in question \n",
    "wiki_df[wiki_df['Other Source Deaths'] == '231000*[13] 283000*[14] 227898*[15]']\n"
   ]
  },
  {
   "cell_type": "code",
   "execution_count": 12,
   "metadata": {},
   "outputs": [
    {
     "data": {
      "text/html": [
       "<div>\n",
       "<style scoped>\n",
       "    .dataframe tbody tr th:only-of-type {\n",
       "        vertical-align: middle;\n",
       "    }\n",
       "\n",
       "    .dataframe tbody tr th {\n",
       "        vertical-align: top;\n",
       "    }\n",
       "\n",
       "    .dataframe thead th {\n",
       "        text-align: right;\n",
       "    }\n",
       "</style>\n",
       "<table border=\"1\" class=\"dataframe\">\n",
       "  <thead>\n",
       "    <tr style=\"text-align: right;\">\n",
       "      <th></th>\n",
       "      <th>Origin (UTC)</th>\n",
       "      <th>Present-day country and link to Wikipedia article</th>\n",
       "      <th>Lat</th>\n",
       "      <th>Long</th>\n",
       "      <th>Depth (km)</th>\n",
       "      <th>Magnitude</th>\n",
       "      <th>Secondary Effects</th>\n",
       "      <th>PDE Shaking Deaths</th>\n",
       "      <th>PDE Total Deaths</th>\n",
       "      <th>Utsu Total Deaths</th>\n",
       "      <th>EM-DAT Total Deaths</th>\n",
       "      <th>Other Source Deaths</th>\n",
       "    </tr>\n",
       "  </thead>\n",
       "  <tbody>\n",
       "    <tr>\n",
       "      <th>1327</th>\n",
       "      <td>2010-01-12 17:00</td>\n",
       "      <td>Haiti (see 2010 Haiti earthquake)</td>\n",
       "      <td>18.457</td>\n",
       "      <td>-72.533</td>\n",
       "      <td>13</td>\n",
       "      <td>7.0 Mw</td>\n",
       "      <td>NaN</td>\n",
       "      <td>NaN</td>\n",
       "      <td>NaN</td>\n",
       "      <td>NaN</td>\n",
       "      <td>NaN</td>\n",
       "      <td>222,517[17]</td>\n",
       "    </tr>\n",
       "  </tbody>\n",
       "</table>\n",
       "</div>"
      ],
      "text/plain": [
       "          Origin (UTC) Present-day country and link to Wikipedia article  \\\n",
       "1327  2010-01-12 17:00                 Haiti (see 2010 Haiti earthquake)   \n",
       "\n",
       "         Lat     Long Depth (km) Magnitude Secondary Effects  \\\n",
       "1327  18.457  -72.533         13    7.0 Mw               NaN   \n",
       "\n",
       "      PDE Shaking Deaths  PDE Total Deaths  Utsu Total Deaths  \\\n",
       "1327                 NaN               NaN                NaN   \n",
       "\n",
       "     EM-DAT Total Deaths Other Source Deaths  \n",
       "1327                 NaN         222,517[17]  "
      ]
     },
     "execution_count": 12,
     "metadata": {},
     "output_type": "execute_result"
    }
   ],
   "source": [
    "wiki_df[wiki_df['Other Source Deaths'] == '222,517[17]']"
   ]
  },
  {
   "cell_type": "code",
   "execution_count": 13,
   "metadata": {},
   "outputs": [],
   "source": [
    "wiki_df.iloc[1237,-1] = '283000'\n",
    "wiki_df.iloc[1327,-1] = '222517'"
   ]
  },
  {
   "cell_type": "code",
   "execution_count": 14,
   "metadata": {},
   "outputs": [],
   "source": [
    "wiki_df['Other Source Deaths'] = wiki_df['Other Source Deaths'].str.extract('(\\d+)')\n",
    "wiki_df['Other Source Deaths'] = wiki_df['Other Source Deaths'].fillna(0)"
   ]
  },
  {
   "cell_type": "code",
   "execution_count": 15,
   "metadata": {},
   "outputs": [],
   "source": [
    "wiki_df['Other Source Deaths'] = wiki_df['Other Source Deaths'].astype(int)"
   ]
  },
  {
   "cell_type": "code",
   "execution_count": 16,
   "metadata": {},
   "outputs": [],
   "source": [
    "#figuring out the regex point2 = wiki_df.iloc[1335,5]"
   ]
  },
  {
   "cell_type": "code",
   "execution_count": 17,
   "metadata": {},
   "outputs": [],
   "source": [
    "#figuring out the regex re.match('\\d{1}\\.\\d{1}', point2)"
   ]
  },
  {
   "cell_type": "code",
   "execution_count": 18,
   "metadata": {},
   "outputs": [],
   "source": [
    "wiki_df['Magnitude'] = wiki_df['Magnitude'].str.extract('(\\d{1}\\.\\d{1})')"
   ]
  },
  {
   "cell_type": "code",
   "execution_count": 19,
   "metadata": {},
   "outputs": [],
   "source": [
    "# also go this wrong wiki_df.fillna(0)\n",
    "wiki_df['Magnitude'] = wiki_df['Magnitude'].astype(float)"
   ]
  },
  {
   "cell_type": "code",
   "execution_count": 20,
   "metadata": {},
   "outputs": [],
   "source": [
    "wiki_df['Deaths'] = wiki_df[['PDE Total Deaths','Utsu Total Deaths','EM-DAT Total Deaths','Other Source Deaths']].max(axis=1)"
   ]
  },
  {
   "cell_type": "code",
   "execution_count": 21,
   "metadata": {},
   "outputs": [
    {
     "data": {
      "text/html": [
       "<div>\n",
       "<style scoped>\n",
       "    .dataframe tbody tr th:only-of-type {\n",
       "        vertical-align: middle;\n",
       "    }\n",
       "\n",
       "    .dataframe tbody tr th {\n",
       "        vertical-align: top;\n",
       "    }\n",
       "\n",
       "    .dataframe thead th {\n",
       "        text-align: right;\n",
       "    }\n",
       "</style>\n",
       "<table border=\"1\" class=\"dataframe\">\n",
       "  <thead>\n",
       "    <tr style=\"text-align: right;\">\n",
       "      <th></th>\n",
       "      <th>Origin (UTC)</th>\n",
       "      <th>Present-day country and link to Wikipedia article</th>\n",
       "      <th>Lat</th>\n",
       "      <th>Long</th>\n",
       "      <th>Depth (km)</th>\n",
       "      <th>Magnitude</th>\n",
       "      <th>Secondary Effects</th>\n",
       "      <th>PDE Shaking Deaths</th>\n",
       "      <th>PDE Total Deaths</th>\n",
       "      <th>Utsu Total Deaths</th>\n",
       "      <th>EM-DAT Total Deaths</th>\n",
       "      <th>Other Source Deaths</th>\n",
       "      <th>Deaths</th>\n",
       "    </tr>\n",
       "  </thead>\n",
       "  <tbody>\n",
       "    <tr>\n",
       "      <th>0</th>\n",
       "      <td>1900-05-11 17:23</td>\n",
       "      <td>Japan</td>\n",
       "      <td>38.700</td>\n",
       "      <td>141.100</td>\n",
       "      <td>5</td>\n",
       "      <td>7.0</td>\n",
       "      <td>NaN</td>\n",
       "      <td>NaN</td>\n",
       "      <td>NaN</td>\n",
       "      <td>NaN</td>\n",
       "      <td>NaN</td>\n",
       "      <td>0</td>\n",
       "      <td>0.0</td>\n",
       "    </tr>\n",
       "    <tr>\n",
       "      <th>1</th>\n",
       "      <td>1900-07-12 06:25</td>\n",
       "      <td>Turkey</td>\n",
       "      <td>40.300</td>\n",
       "      <td>43.100</td>\n",
       "      <td>NaN</td>\n",
       "      <td>5.9</td>\n",
       "      <td>NaN</td>\n",
       "      <td>NaN</td>\n",
       "      <td>NaN</td>\n",
       "      <td>140.0</td>\n",
       "      <td>NaN</td>\n",
       "      <td>0</td>\n",
       "      <td>140.0</td>\n",
       "    </tr>\n",
       "    <tr>\n",
       "      <th>2</th>\n",
       "      <td>1900-10-29 09:11</td>\n",
       "      <td>Venezuela</td>\n",
       "      <td>11.000</td>\n",
       "      <td>-66.000</td>\n",
       "      <td>0</td>\n",
       "      <td>7.7</td>\n",
       "      <td>NaN</td>\n",
       "      <td>NaN</td>\n",
       "      <td>NaN</td>\n",
       "      <td>NaN</td>\n",
       "      <td>NaN</td>\n",
       "      <td>0</td>\n",
       "      <td>0.0</td>\n",
       "    </tr>\n",
       "    <tr>\n",
       "      <th>3</th>\n",
       "      <td>1901-02-15 00:00</td>\n",
       "      <td>China</td>\n",
       "      <td>26.000</td>\n",
       "      <td>100.100</td>\n",
       "      <td>0</td>\n",
       "      <td>6.5</td>\n",
       "      <td>NaN</td>\n",
       "      <td>NaN</td>\n",
       "      <td>NaN</td>\n",
       "      <td>NaN</td>\n",
       "      <td>NaN</td>\n",
       "      <td>0</td>\n",
       "      <td>0.0</td>\n",
       "    </tr>\n",
       "    <tr>\n",
       "      <th>4</th>\n",
       "      <td>1901-03-31 07:11</td>\n",
       "      <td>Bulgaria</td>\n",
       "      <td>43.400</td>\n",
       "      <td>28.700</td>\n",
       "      <td>NaN</td>\n",
       "      <td>6.4</td>\n",
       "      <td>NaN</td>\n",
       "      <td>NaN</td>\n",
       "      <td>NaN</td>\n",
       "      <td>4.0</td>\n",
       "      <td>NaN</td>\n",
       "      <td>0</td>\n",
       "      <td>4.0</td>\n",
       "    </tr>\n",
       "    <tr>\n",
       "      <th>...</th>\n",
       "      <td>...</td>\n",
       "      <td>...</td>\n",
       "      <td>...</td>\n",
       "      <td>...</td>\n",
       "      <td>...</td>\n",
       "      <td>...</td>\n",
       "      <td>...</td>\n",
       "      <td>...</td>\n",
       "      <td>...</td>\n",
       "      <td>...</td>\n",
       "      <td>...</td>\n",
       "      <td>...</td>\n",
       "      <td>...</td>\n",
       "    </tr>\n",
       "    <tr>\n",
       "      <th>1335</th>\n",
       "      <td>2011-03-24 20:25</td>\n",
       "      <td>Burma (see 2011 Burma earthquake)</td>\n",
       "      <td>NaN</td>\n",
       "      <td>NaN</td>\n",
       "      <td>NaN</td>\n",
       "      <td>6.8</td>\n",
       "      <td>NaN</td>\n",
       "      <td>NaN</td>\n",
       "      <td>NaN</td>\n",
       "      <td>NaN</td>\n",
       "      <td>NaN</td>\n",
       "      <td>150</td>\n",
       "      <td>150.0</td>\n",
       "    </tr>\n",
       "    <tr>\n",
       "      <th>1336</th>\n",
       "      <td>2011-04-07 14:32</td>\n",
       "      <td>Japan (see April 2011 Miyagi earthquake)</td>\n",
       "      <td>38.2</td>\n",
       "      <td>140.0</td>\n",
       "      <td>66.0</td>\n",
       "      <td>7.1</td>\n",
       "      <td>NaN</td>\n",
       "      <td>NaN</td>\n",
       "      <td>NaN</td>\n",
       "      <td>NaN</td>\n",
       "      <td>NaN</td>\n",
       "      <td>0</td>\n",
       "      <td>0.0</td>\n",
       "    </tr>\n",
       "    <tr>\n",
       "      <th>1337</th>\n",
       "      <td>2011-09-18 12:40</td>\n",
       "      <td>India (see 2011 Sikkim earthquake)</td>\n",
       "      <td>27.723</td>\n",
       "      <td>88.064</td>\n",
       "      <td>19.7</td>\n",
       "      <td>6.9</td>\n",
       "      <td>L</td>\n",
       "      <td>NaN</td>\n",
       "      <td>NaN</td>\n",
       "      <td>NaN</td>\n",
       "      <td>NaN</td>\n",
       "      <td>111</td>\n",
       "      <td>111.0</td>\n",
       "    </tr>\n",
       "    <tr>\n",
       "      <th>1338</th>\n",
       "      <td>2011-09-23 10:41</td>\n",
       "      <td>Turkey (see 2011 Van earthquake)</td>\n",
       "      <td>38.6</td>\n",
       "      <td>43.5</td>\n",
       "      <td>7.2</td>\n",
       "      <td>7.1</td>\n",
       "      <td>NaN</td>\n",
       "      <td>NaN</td>\n",
       "      <td>NaN</td>\n",
       "      <td>NaN</td>\n",
       "      <td>NaN</td>\n",
       "      <td>601</td>\n",
       "      <td>601.0</td>\n",
       "    </tr>\n",
       "    <tr>\n",
       "      <th>1339</th>\n",
       "      <td>2018-08-05 19:46</td>\n",
       "      <td>Indonesia (see Lombok earthquake)</td>\n",
       "      <td>NaN</td>\n",
       "      <td>NaN</td>\n",
       "      <td>31.0</td>\n",
       "      <td>6.9</td>\n",
       "      <td>NaN</td>\n",
       "      <td>NaN</td>\n",
       "      <td>NaN</td>\n",
       "      <td>NaN</td>\n",
       "      <td>NaN</td>\n",
       "      <td>0</td>\n",
       "      <td>0.0</td>\n",
       "    </tr>\n",
       "  </tbody>\n",
       "</table>\n",
       "<p>1340 rows × 13 columns</p>\n",
       "</div>"
      ],
      "text/plain": [
       "          Origin (UTC) Present-day country and link to Wikipedia article  \\\n",
       "0     1900-05-11 17:23                                             Japan   \n",
       "1     1900-07-12 06:25                                            Turkey   \n",
       "2     1900-10-29 09:11                                         Venezuela   \n",
       "3     1901-02-15 00:00                                             China   \n",
       "4     1901-03-31 07:11                                          Bulgaria   \n",
       "...                ...                                               ...   \n",
       "1335  2011-03-24 20:25                 Burma (see 2011 Burma earthquake)   \n",
       "1336  2011-04-07 14:32          Japan (see April 2011 Miyagi earthquake)   \n",
       "1337  2011-09-18 12:40                India (see 2011 Sikkim earthquake)   \n",
       "1338  2011-09-23 10:41                  Turkey (see 2011 Van earthquake)   \n",
       "1339  2018-08-05 19:46                 Indonesia (see Lombok earthquake)   \n",
       "\n",
       "         Lat     Long Depth (km)  Magnitude Secondary Effects  \\\n",
       "0     38.700  141.100          5        7.0               NaN   \n",
       "1     40.300   43.100        NaN        5.9               NaN   \n",
       "2     11.000  -66.000          0        7.7               NaN   \n",
       "3     26.000  100.100          0        6.5               NaN   \n",
       "4     43.400   28.700        NaN        6.4               NaN   \n",
       "...      ...      ...        ...        ...               ...   \n",
       "1335     NaN      NaN        NaN        6.8               NaN   \n",
       "1336    38.2    140.0       66.0        7.1               NaN   \n",
       "1337  27.723   88.064       19.7        6.9                 L   \n",
       "1338    38.6     43.5        7.2        7.1               NaN   \n",
       "1339     NaN      NaN       31.0        6.9               NaN   \n",
       "\n",
       "      PDE Shaking Deaths  PDE Total Deaths  Utsu Total Deaths  \\\n",
       "0                    NaN               NaN                NaN   \n",
       "1                    NaN               NaN              140.0   \n",
       "2                    NaN               NaN                NaN   \n",
       "3                    NaN               NaN                NaN   \n",
       "4                    NaN               NaN                4.0   \n",
       "...                  ...               ...                ...   \n",
       "1335                 NaN               NaN                NaN   \n",
       "1336                 NaN               NaN                NaN   \n",
       "1337                 NaN               NaN                NaN   \n",
       "1338                 NaN               NaN                NaN   \n",
       "1339                 NaN               NaN                NaN   \n",
       "\n",
       "     EM-DAT Total Deaths  Other Source Deaths  Deaths  \n",
       "0                    NaN                    0     0.0  \n",
       "1                    NaN                    0   140.0  \n",
       "2                    NaN                    0     0.0  \n",
       "3                    NaN                    0     0.0  \n",
       "4                    NaN                    0     4.0  \n",
       "...                  ...                  ...     ...  \n",
       "1335                 NaN                  150   150.0  \n",
       "1336                 NaN                    0     0.0  \n",
       "1337                 NaN                  111   111.0  \n",
       "1338                 NaN                  601   601.0  \n",
       "1339                 NaN                    0     0.0  \n",
       "\n",
       "[1340 rows x 13 columns]"
      ]
     },
     "execution_count": 21,
     "metadata": {},
     "output_type": "execute_result"
    }
   ],
   "source": [
    "wiki_df"
   ]
  },
  {
   "cell_type": "code",
   "execution_count": 22,
   "metadata": {},
   "outputs": [
    {
     "data": {
      "text/plain": [
       "China                                                          132\n",
       "Indonesia                                                       81\n",
       "Iran                                                            78\n",
       "Japan                                                           62\n",
       "Turkey                                                          60\n",
       "                                                              ... \n",
       "China (see 1985 Luquan earthquake)                               1\n",
       "Indonesia (see Lombok earthquake)                                1\n",
       "Saint Pierre and Miquelon (see 1929 Grand Banks earthquake)      1\n",
       "China (see 1920 Haiyuan earthquake)                              1\n",
       "Mexico (see 1999 Oaxaca earthquake)                              1\n",
       "Name: Present-day country and link to Wikipedia article, Length: 397, dtype: int64"
      ]
     },
     "execution_count": 22,
     "metadata": {},
     "output_type": "execute_result"
    }
   ],
   "source": [
    "wiki_df['Present-day country and link to Wikipedia article'].value_counts()"
   ]
  },
  {
   "cell_type": "code",
   "execution_count": 23,
   "metadata": {},
   "outputs": [
    {
     "data": {
      "text/plain": [
       "0                                          Japan\n",
       "1                                         Turkey\n",
       "2                                      Venezuela\n",
       "3                                          China\n",
       "4                                       Bulgaria\n",
       "                          ...                   \n",
       "1335           Burma (see 2011 Burma earthquake)\n",
       "1336    Japan (see April 2011 Miyagi earthquake)\n",
       "1337          India (see 2011 Sikkim earthquake)\n",
       "1338            Turkey (see 2011 Van earthquake)\n",
       "1339           Indonesia (see Lombok earthquake)\n",
       "Name: Present-day country and link to Wikipedia article, Length: 1340, dtype: object"
      ]
     },
     "execution_count": 23,
     "metadata": {},
     "output_type": "execute_result"
    }
   ],
   "source": [
    "wiki_df['Present-day country and link to Wikipedia article']"
   ]
  },
  {
   "cell_type": "code",
   "execution_count": 24,
   "metadata": {},
   "outputs": [],
   "source": [
    "#point3 = wiki_df.iloc[1,1]"
   ]
  },
  {
   "cell_type": "code",
   "execution_count": 25,
   "metadata": {},
   "outputs": [
    {
     "data": {
      "text/plain": [
       "<re.Match object; span=(0, 6), match='Turkey'>"
      ]
     },
     "execution_count": 25,
     "metadata": {},
     "output_type": "execute_result"
    }
   ],
   "source": [
    "#re.match('(\\w+)', point3)"
   ]
  },
  {
   "cell_type": "code",
   "execution_count": 29,
   "metadata": {},
   "outputs": [],
   "source": [
    "wiki_df['Present-day country and link to Wikipedia article'] = wiki_df['Present-day country and link to Wikipedia article'].str.extract('(\\w+)')"
   ]
  },
  {
   "cell_type": "code",
   "execution_count": 31,
   "metadata": {},
   "outputs": [
    {
     "data": {
      "text/plain": [
       "China        166\n",
       "Indonesia     97\n",
       "Turkey        95\n",
       "Iran          92\n",
       "Japan         82\n",
       "            ... \n",
       "Honduras       1\n",
       "Eritrea        1\n",
       "see            1\n",
       "Vietnam        1\n",
       "Wallis         1\n",
       "Name: Present-day country and link to Wikipedia article, Length: 108, dtype: int64"
      ]
     },
     "execution_count": 31,
     "metadata": {},
     "output_type": "execute_result"
    }
   ],
   "source": [
    "wiki_df['Present-day country and link to Wikipedia article'].value_counts()"
   ]
  },
  {
   "cell_type": "code",
   "execution_count": null,
   "metadata": {},
   "outputs": [],
   "source": []
  }
 ],
 "metadata": {
  "kernelspec": {
   "display_name": "Python 3",
   "language": "python",
   "name": "python3"
  },
  "language_info": {
   "codemirror_mode": {
    "name": "ipython",
    "version": 3
   },
   "file_extension": ".py",
   "mimetype": "text/x-python",
   "name": "python",
   "nbconvert_exporter": "python",
   "pygments_lexer": "ipython3",
   "version": "3.8.3"
  }
 },
 "nbformat": 4,
 "nbformat_minor": 4
}
