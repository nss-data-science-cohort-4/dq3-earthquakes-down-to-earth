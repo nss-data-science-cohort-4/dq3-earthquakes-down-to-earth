{
 "cells": [
  {
   "cell_type": "markdown",
   "metadata": {},
   "source": [
    "#Data Question 4: Web Scraping Earthquake Data\n",
    "##Part 1:\n",
    "\n",
    "Nate Silver discusses the difficulty of predicting earthquakes in The Signal and the Noise. Nevertheless, we will try to identify some patterns by analyzing the deadly earthquakes that have occurred since 1900.\n",
    "\n",
    "To start, read the table of earthquakes from https://en.wikipedia.org/wiki/List_of_deadly_earthquakes_since_1900 using the requests and/or beautifulsoup library and load it to a pandas dataframe. You will need to do some data cleaning before you can proceed."
   ]
  },
  {
   "cell_type": "code",
   "execution_count": null,
   "metadata": {},
   "outputs": [],
   "source": [
    "url='https://en.wikipedia.org/wiki/List_of_deadly_earthquakes_since_1900'\n"
   ]
  },
  {
   "cell_type": "code",
   "execution_count": null,
   "metadata": {},
   "outputs": [],
   "source": []
  },
  {
   "cell_type": "markdown",
   "metadata": {},
   "source": [
    "##Data cleaning tasks include:\n",
    "\n",
    "- Replace empty strings with NaN\n",
    "- Remove the footnotes from the 'Other Source Deaths' column\n",
    "- Convert Magnitude to a numeric type. For this portion, you can ignore differences in seismic magnitude scales.\n",
    "- Correct number of deaths when there is more than one value. When there is more than one value given, choose the largest.\n",
    "- Create a new column ('deaths') that evaluates the four total-death columns ('PDE Total Deaths', 'Utsu Total Deaths', 'EM-DAT Total Deaths', and 'Other Source Deaths') and populates the new column with the highest value.\n",
    "- Explore the data in terms of when and where earthquakes occurred and how severe they were (magnitude, deaths, secondary effects)."
   ]
  },
  {
   "cell_type": "code",
   "execution_count": null,
   "metadata": {},
   "outputs": [],
   "source": []
  }
 ],
 "metadata": {
  "kernelspec": {
   "display_name": "Python 3",
   "language": "python",
   "name": "python3"
  },
  "language_info": {
   "codemirror_mode": {
    "name": "ipython",
    "version": 3
   },
   "file_extension": ".py",
   "mimetype": "text/x-python",
   "name": "python",
   "nbconvert_exporter": "python",
   "pygments_lexer": "ipython3",
   "version": "3.8.3"
  }
 },
 "nbformat": 4,
 "nbformat_minor": 4
}
